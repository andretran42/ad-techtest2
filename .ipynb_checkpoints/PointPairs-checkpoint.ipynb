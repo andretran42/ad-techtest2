{
 "cells": [
  {
   "cell_type": "code",
   "execution_count": 31,
   "id": "a9986f06",
   "metadata": {},
   "outputs": [],
   "source": [
    "import pandas as pd\n",
    "import numpy as np\n",
    "from scipy.spatial import ConvexHull"
   ]
  },
  {
   "cell_type": "code",
   "execution_count": 6,
   "id": "ea74a3d4",
   "metadata": {},
   "outputs": [],
   "source": [
    "set_a = pd.read_csv('./a.csv')\n",
    "set_b = pd.read_csv('./b.csv')"
   ]
  },
  {
   "cell_type": "markdown",
   "id": "b667d1a1",
   "metadata": {},
   "source": [
    "### Distance function (squared)"
   ]
  },
  {
   "cell_type": "code",
   "execution_count": 29,
   "id": "02dc988a",
   "metadata": {},
   "outputs": [],
   "source": [
    "def find_dist_squared(x1, y1, x2, y2):\n",
    "    dist = (x1-x2)**2+(y1-y2)**2\n",
    "    return(dist)"
   ]
  },
  {
   "cell_type": "markdown",
   "id": "3f05f975",
   "metadata": {},
   "source": [
    "### Convex hull (for max distances)"
   ]
  },
  {
   "cell_type": "code",
   "execution_count": 35,
   "id": "8757cf8c",
   "metadata": {},
   "outputs": [],
   "source": [
    "def findConvexHull(point_set):\n",
    "    points = point_set[['X', 'Y']].values\n",
    "    hull = ConvexHull(points)\n",
    "    \n",
    "    #Find the convex hull points\n",
    "    hull_points = points[hull.vertices]\n",
    "    \n",
    "    #Find hull point IDs\n",
    "    hull_ids = point_set.loc[hull.vertices, 'ID'].tolist()\n",
    "    \n",
    "    return hull_points, hull_ids"
   ]
  },
  {
   "cell_type": "code",
   "execution_count": 109,
   "id": "805d19f7",
   "metadata": {},
   "outputs": [],
   "source": [
    "def furthest_pair(a, b):\n",
    "    a_hull, a_ids = findConvexHull(a)\n",
    "    b_hull, b_ids = findConvexHull(b)\n",
    "    #the max distance points will lie on the convex hull of each point set\n",
    "    max_dist = -1\n",
    "\n",
    "    furthest_pair = []\n",
    "\n",
    "    for i in range(len(a_ids)):\n",
    "        for j in range(len(b_ids)):\n",
    "            dist = find_dist_squared(a_hull[i][0], a_hull[i][1], b_hull[j][0], b_hull[j][1])\n",
    "            if max_dist < dist:\n",
    "                max_dist = dist\n",
    "                furthest_pair = [a_ids[i], b_ids[j]]\n",
    "    return(furthest_pair, max_dist**(1/2))"
   ]
  },
  {
   "cell_type": "code",
   "execution_count": 110,
   "id": "06dda922",
   "metadata": {},
   "outputs": [
    {
     "name": "stdout",
     "output_type": "stream",
     "text": [
      "([872, 720], 139.93957618686142)\n"
     ]
    }
   ],
   "source": [
    "print(furthest_pair(set_a, set_b))"
   ]
  },
  {
   "cell_type": "markdown",
   "id": "ce3dce16",
   "metadata": {},
   "source": [
    "### Closest pair\n",
    "Note that this is not guaranteed to find the closest pairs for any given point sets, but since the sets in this example followed a random distribution and were relatively dense, I scanned within an x-range of closest 10%, which I felt was a good enough number"
   ]
  },
  {
   "cell_type": "code",
   "execution_count": 111,
   "id": "6619139a",
   "metadata": {},
   "outputs": [],
   "source": [
    "def closest_pair(a, b):\n",
    "    points_a = a[['X', 'Y', 'ID']].values.tolist()\n",
    "    points_b = b[['X', 'Y', 'ID']].values.tolist()\n",
    "    size = len(points_b)\n",
    "    \n",
    "    #sort sets on x axis (WLOG y axis, but auto sorts on x)\n",
    "    points_a.sort()\n",
    "    points_b.sort()\n",
    "    \n",
    "    min_dist = float('inf')\n",
    "    closest_pair = None\n",
    "    \n",
    "    i, j = 0, 0\n",
    "    while i < len(points_a) and j < len(points_b):\n",
    "        p1, p2 = points_a[i], points_b[j]\n",
    "        current_dist = find_dist_squared(p1[0],p1[1], p2[0],p2[1])\n",
    "        \n",
    "        if current_dist < min_dist:\n",
    "            min_dist = current_dist\n",
    "            closest_pair = (p1, p2)\n",
    "        \n",
    "        if p1[2] < p2[2]:\n",
    "            i += 1\n",
    "        else:\n",
    "            j += 1\n",
    "        \n",
    "        #check 10% range around the current points\n",
    "        for k in range(0-(size//10), (size//10)):\n",
    "            if 0 <= i + k < len(points_a) and 0 <= j < len(points_b):\n",
    "                p1_k = points_a[i+k]\n",
    "                d = find_dist_squared(p1_k[0],p1_k[1], p2[0],p2[1])\n",
    "                if d < min_dist:\n",
    "                    min_dist = d\n",
    "                    closest_pair = (p1_k, p2)\n",
    "            if 0 <= i < len(points_a) and 0 <= j + k < len(points_b):\n",
    "                p2_k = points_b[j+k]\n",
    "                d = find_dist_squared(p1[0],p1[1], p2_k[0],p2_k[1])\n",
    "                if d < min_dist:\n",
    "                    min_dist = d\n",
    "                    closest_pair = (p1, p2_k)\n",
    "    \n",
    "    return([closest_pair[0][2], closest_pair[1][2]], min_dist**(1/2))\n"
   ]
  },
  {
   "cell_type": "code",
   "execution_count": 112,
   "id": "a7c0d91e",
   "metadata": {},
   "outputs": [
    {
     "name": "stdout",
     "output_type": "stream",
     "text": [
      "([2203.0, 1613.0], 0.0292231613396485)\n"
     ]
    }
   ],
   "source": [
    "print(closest_pair(set_a,set_b))"
   ]
  }
 ],
 "metadata": {
  "kernelspec": {
   "display_name": "Python 3 (ipykernel)",
   "language": "python",
   "name": "python3"
  },
  "language_info": {
   "codemirror_mode": {
    "name": "ipython",
    "version": 3
   },
   "file_extension": ".py",
   "mimetype": "text/x-python",
   "name": "python",
   "nbconvert_exporter": "python",
   "pygments_lexer": "ipython3",
   "version": "3.11.7"
  }
 },
 "nbformat": 4,
 "nbformat_minor": 5
}
